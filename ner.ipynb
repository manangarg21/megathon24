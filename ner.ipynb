{
 "cells": [
  {
   "cell_type": "code",
   "execution_count": 29,
   "metadata": {},
   "outputs": [],
   "source": [
    "import pandas as pd\n",
    "from transformers import LukeTokenizer, LukeForTokenClassification, Trainer, TrainingArguments\n",
    "from datasets import Dataset\n",
    "import torch\n",
    "from torch.utils.data import DataLoader\n",
    "from transformers import get_linear_schedule_with_warmup, AdamW\n",
    "from tqdm import tqdm \n",
    "\n",
    "file_path = './dataset.csv'\n",
    "dataset = pd.read_csv(file_path)\n",
    "\n",
    "data = dataset.sample(frac=0.01, random_state=42)\n",
    "data.reset_index(drop=True)\n",
    "data = data.to_dict(orient=\"records\")\n",
    "\n",
    "\n",
    "# label2id = {\"O\": 0, \"B-MENTAL_HEALTH_CONCERN\": 1, \"I-MENTAL_HEALTH_CONCERN\": 2}"
   ]
  },
  {
   "cell_type": "code",
   "execution_count": 30,
   "metadata": {},
   "outputs": [
    {
     "name": "stderr",
     "output_type": "stream",
     "text": [
      "/Library/Frameworks/Python.framework/Versions/3.11/lib/python3.11/site-packages/huggingface_hub/file_download.py:1142: FutureWarning: `resume_download` is deprecated and will be removed in version 1.0.0. Downloads always resume when possible. If you want to force a new download, use `force_download=True`.\n",
      "  warnings.warn(\n",
      "Special tokens have been added in the vocabulary, make sure the associated word embeddings are fine-tuned or trained.\n",
      "Some weights of LukeForTokenClassification were not initialized from the model checkpoint at studio-ousia/luke-base and are newly initialized: ['classifier.bias', 'classifier.weight']\n",
      "You should probably TRAIN this model on a down-stream task to be able to use it for predictions and inference.\n"
     ]
    }
   ],
   "source": [
    "\n",
    "tokenizer = LukeTokenizer.from_pretrained(\"studio-ousia/luke-base\")\n",
    "model = LukeForTokenClassification.from_pretrained(\"studio-ousia/luke-base\", num_labels=2)\n",
    "\n",
    "from transformers import LukeTokenizer\n",
    "\n",
    "label2id = {\"O\": 0, \"CONCERN\": 1}\n",
    "\n",
    "def label_concern_phrases(user_input, extracted_concern, tokenizer):\n",
    "    # Tokenize with padding enabled\n",
    "    tokens = tokenizer(user_input, return_tensors=\"pt\", padding=True, truncation=True )\n",
    "    labels = [label2id[\"O\"]] * len(tokens[\"input_ids\"][0])\n",
    "\n",
    "    # Find positions of the extracted concern phrase within the input text\n",
    "    start_idx = user_input.find(extracted_concern)\n",
    "    if start_idx != -1:\n",
    "        end_idx = start_idx + len(extracted_concern)\n",
    "        concern_tokens = tokenizer(extracted_concern, add_special_tokens=False, return_tensors=\"pt\")[\"input_ids\"][0]\n",
    "\n",
    "        # Mark tokens in extracted concern as \"CONCERN\"\n",
    "        for i, token_id in enumerate(tokens[\"input_ids\"][0]):\n",
    "            if token_id in concern_tokens:\n",
    "                labels[i] = label2id[\"CONCERN\"]\n",
    "\n",
    "    # Pad labels to match input length after tokenization\n",
    "    labels += [label2id[\"O\"]] * (tokens[\"input_ids\"].shape[1] - len(labels))\n",
    "    return tokens, labels\n"
   ]
  },
  {
   "cell_type": "code",
   "execution_count": 31,
   "metadata": {},
   "outputs": [],
   "source": [
    "from torch.utils.data import Dataset, DataLoader\n",
    "\n",
    "class ConcernDataset(Dataset):\n",
    "    def __init__(self, data, tokenizer):\n",
    "        self.data = data\n",
    "        self.tokenizer = tokenizer\n",
    "\n",
    "    def __len__(self):\n",
    "        return len(self.data)\n",
    "\n",
    "    def __getitem__(self, idx):\n",
    "        try:\n",
    "            user_input = self.data[idx][\"User Input\"]\n",
    "            extracted_concern = self.data[idx][\"Extracted Concern\"]\n",
    "            tokens, labels = label_concern_phrases(user_input, extracted_concern, self.tokenizer)\n",
    "\n",
    "            # Convert tokens and labels to tensors\n",
    "            return {\n",
    "                \"input_ids\": tokens[\"input_ids\"].squeeze(0),\n",
    "                \"attention_mask\": tokens[\"attention_mask\"].squeeze(0),\n",
    "                \"labels\": torch.tensor(labels, dtype=torch.long)\n",
    "            }\n",
    "        except KeyError as e:\n",
    "            print(f\"KeyError at index {idx}: {e}\")\n",
    "            raise\n",
    "\n"
   ]
  },
  {
   "cell_type": "code",
   "execution_count": 32,
   "metadata": {},
   "outputs": [],
   "source": [
    "dataset = ConcernDataset(data, tokenizer)\n",
    "from transformers import DataCollatorForTokenClassification\n",
    "\n",
    "# Initialize the data collator\n",
    "data_collator = DataCollatorForTokenClassification(tokenizer=tokenizer)\n",
    "\n",
    "# Update DataLoader to use the collate function\n",
    "train_dataloader = DataLoader(dataset, batch_size=8, shuffle=True, collate_fn=data_collator)\n"
   ]
  },
  {
   "cell_type": "code",
   "execution_count": 33,
   "metadata": {},
   "outputs": [
    {
     "name": "stderr",
     "output_type": "stream",
     "text": [
      "/Library/Frameworks/Python.framework/Versions/3.11/lib/python3.11/site-packages/transformers/optimization.py:429: FutureWarning: This implementation of AdamW is deprecated and will be removed in a future version. Use the PyTorch implementation torch.optim.AdamW instead, or set `no_deprecation_warning=True` to disable this warning\n",
      "  warnings.warn(\n"
     ]
    }
   ],
   "source": [
    "import torch.nn as nn\n",
    "optimizer = AdamW(model.parameters(), lr=3e-5)\n",
    "loss_fn = nn.CrossEntropyLoss()\n",
    "epochs = 5"
   ]
  },
  {
   "cell_type": "code",
   "execution_count": 34,
   "metadata": {},
   "outputs": [],
   "source": [
    "# for batch in tqdm(train_dataloader):\n",
    "#     input_ids = batch['input_ids']\n",
    "#     attention_mask = batch['attention_mask']\n",
    "#     labels = batch['labels']\n",
    "    \n",
    "#     # Print shapes\n",
    "#     print(f\"input_ids shape: {input_ids.shape}\")\n",
    "#     print(f\"attention_mask shape: {attention_mask.shape}\")\n",
    "#     print(f\"labels shape: {labels.shape}\")\n",
    "#     break"
   ]
  },
  {
   "cell_type": "code",
   "execution_count": 39,
   "metadata": {},
   "outputs": [
    {
     "name": "stdout",
     "output_type": "stream",
     "text": [
      "Epoch 1/3\n"
     ]
    },
    {
     "name": "stderr",
     "output_type": "stream",
     "text": [
      "  8%|▊         | 1/13 [00:00<00:01,  8.71it/s]"
     ]
    },
    {
     "name": "stdout",
     "output_type": "stream",
     "text": [
      "torch.Size([8, 19])\n"
     ]
    },
    {
     "name": "stderr",
     "output_type": "stream",
     "text": [
      " 15%|█▌        | 2/13 [00:00<00:02,  3.90it/s]"
     ]
    },
    {
     "name": "stdout",
     "output_type": "stream",
     "text": [
      "torch.Size([8, 18])\n",
      "torch.Size([8, 18])\n"
     ]
    },
    {
     "name": "stderr",
     "output_type": "stream",
     "text": [
      " 38%|███▊      | 5/13 [00:00<00:00,  8.79it/s]"
     ]
    },
    {
     "name": "stdout",
     "output_type": "stream",
     "text": [
      "torch.Size([8, 17])\n",
      "torch.Size([8, 16])\n",
      "torch.Size([8, 19])\n",
      "torch.Size([8, 19])\n"
     ]
    },
    {
     "name": "stderr",
     "output_type": "stream",
     "text": [
      " 69%|██████▉   | 9/13 [00:00<00:00, 13.04it/s]"
     ]
    },
    {
     "name": "stdout",
     "output_type": "stream",
     "text": [
      "torch.Size([8, 19])\n",
      "torch.Size([8, 16])\n",
      "torch.Size([8, 18])\n",
      "torch.Size([8, 16])\n"
     ]
    },
    {
     "name": "stderr",
     "output_type": "stream",
     "text": [
      " 85%|████████▍ | 11/13 [00:01<00:00, 13.66it/s]"
     ]
    },
    {
     "name": "stdout",
     "output_type": "stream",
     "text": [
      "torch.Size([8, 18])\n",
      "torch.Size([4, 20])\n"
     ]
    },
    {
     "name": "stderr",
     "output_type": "stream",
     "text": [
      "100%|██████████| 13/13 [00:01<00:00,  8.70it/s]\n"
     ]
    },
    {
     "name": "stdout",
     "output_type": "stream",
     "text": [
      "Average loss for Epoch 1: 0.0028\n",
      "Epoch 2/3\n"
     ]
    },
    {
     "name": "stderr",
     "output_type": "stream",
     "text": [
      " 15%|█▌        | 2/13 [00:00<00:00, 18.24it/s]"
     ]
    },
    {
     "name": "stdout",
     "output_type": "stream",
     "text": [
      "torch.Size([8, 20])\n",
      "torch.Size([8, 17])\n",
      "torch.Size([8, 19])\n",
      "torch.Size([8, 19])\n"
     ]
    },
    {
     "name": "stderr",
     "output_type": "stream",
     "text": [
      " 62%|██████▏   | 8/13 [00:00<00:00, 20.74it/s]"
     ]
    },
    {
     "name": "stdout",
     "output_type": "stream",
     "text": [
      "torch.Size([8, 16])\n",
      "torch.Size([8, 17])\n",
      "torch.Size([8, 16])\n",
      "torch.Size([8, 19])\n",
      "torch.Size([8, 19])\n"
     ]
    },
    {
     "name": "stderr",
     "output_type": "stream",
     "text": [
      " 85%|████████▍ | 11/13 [00:00<00:00, 20.69it/s]"
     ]
    },
    {
     "name": "stdout",
     "output_type": "stream",
     "text": [
      "torch.Size([8, 18])\n",
      "torch.Size([8, 17])\n",
      "torch.Size([8, 17])\n",
      "torch.Size([4, 15])\n"
     ]
    },
    {
     "name": "stderr",
     "output_type": "stream",
     "text": [
      "100%|██████████| 13/13 [00:00<00:00, 15.05it/s]\n"
     ]
    },
    {
     "name": "stdout",
     "output_type": "stream",
     "text": [
      "Average loss for Epoch 2: 0.0029\n",
      "Epoch 3/3\n"
     ]
    },
    {
     "name": "stderr",
     "output_type": "stream",
     "text": [
      " 23%|██▎       | 3/13 [00:00<00:00, 20.27it/s]"
     ]
    },
    {
     "name": "stdout",
     "output_type": "stream",
     "text": [
      "torch.Size([8, 18])\n",
      "torch.Size([8, 20])\n",
      "torch.Size([8, 17])\n",
      "torch.Size([8, 19])\n",
      "torch.Size([8, 17])\n"
     ]
    },
    {
     "name": "stderr",
     "output_type": "stream",
     "text": [
      " 46%|████▌     | 6/13 [00:00<00:00, 20.54it/s]"
     ]
    },
    {
     "name": "stdout",
     "output_type": "stream",
     "text": [
      "torch.Size([8, 16])\n",
      "torch.Size([8, 17])\n",
      "torch.Size([8, 18])\n",
      "torch.Size([8, 19])\n"
     ]
    },
    {
     "name": "stderr",
     "output_type": "stream",
     "text": [
      " 69%|██████▉   | 9/13 [00:00<00:00, 20.62it/s]"
     ]
    },
    {
     "name": "stdout",
     "output_type": "stream",
     "text": [
      "torch.Size([8, 17])\n"
     ]
    },
    {
     "name": "stderr",
     "output_type": "stream",
     "text": [
      " 92%|█████████▏| 12/13 [00:00<00:00, 20.76it/s]"
     ]
    },
    {
     "name": "stdout",
     "output_type": "stream",
     "text": [
      "torch.Size([8, 19])\n",
      "torch.Size([8, 19])\n",
      "torch.Size([4, 19])\n"
     ]
    },
    {
     "name": "stderr",
     "output_type": "stream",
     "text": [
      "100%|██████████| 13/13 [00:00<00:00, 16.48it/s]"
     ]
    },
    {
     "name": "stdout",
     "output_type": "stream",
     "text": [
      "Average loss for Epoch 3: 0.0028\n"
     ]
    },
    {
     "name": "stderr",
     "output_type": "stream",
     "text": [
      "\n"
     ]
    }
   ],
   "source": [
    "def train(model, train_dataloader, optimizer, epochs=3):\n",
    "    model.train()\n",
    "    device = torch.device(\"mps\" if torch.backends.mps.is_available() else \"cpu\")\n",
    "    model.to(device)\n",
    "    \n",
    "    for epoch in range(epochs):\n",
    "        print(f\"Epoch {epoch + 1}/{epochs}\")\n",
    "        epoch_loss = 0\n",
    "        \n",
    "        for batch in tqdm(train_dataloader):\n",
    "            # Move batch to device\n",
    "            input_ids = batch['input_ids'].to(device)\n",
    "            attention_mask = batch['attention_mask'].to(device)\n",
    "            labels = batch['labels'].to(device)\n",
    "            print(labels.shape)\n",
    "            # Zero gradients before each step\n",
    "            optimizer.zero_grad()\n",
    "            \n",
    "            # Forward pass\n",
    "            outputs = model(input_ids, attention_mask=attention_mask, labels=labels)\n",
    "            # print(outputs.logits.shape)\n",
    "            # loss = outputs.loss\n",
    "            logits = outputs.logits \n",
    "            loss = loss_fn(logits.view(-1,2), labels.view(-1))\n",
    "            epoch_loss += loss.item()\n",
    "            \n",
    "            # Backward pass and optimization step\n",
    "            loss.backward()\n",
    "            optimizer.step()\n",
    "            # scheduler.step()\n",
    "        \n",
    "        avg_loss = epoch_loss / len(train_dataloader)\n",
    "        print(f\"Average loss for Epoch {epoch + 1}: {avg_loss:.4f}\")\n",
    "\n",
    "# Start training\n",
    "train(model, train_dataloader, optimizer)\n"
   ]
  },
  {
   "cell_type": "code",
   "execution_count": 36,
   "metadata": {},
   "outputs": [
    {
     "data": {
      "text/plain": [
       "('./saved_model_luke/tokenizer_config.json',\n",
       " './saved_model_luke/special_tokens_map.json',\n",
       " './saved_model_luke/vocab.json',\n",
       " './saved_model_luke/merges.txt',\n",
       " './saved_model_luke/entity_vocab.json',\n",
       " './saved_model_luke/added_tokens.json')"
      ]
     },
     "execution_count": 36,
     "metadata": {},
     "output_type": "execute_result"
    }
   ],
   "source": [
    "from transformers import LukeForTokenClassification, LukeTokenizer\n",
    "\n",
    "# Define paths for saving\n",
    "save_directory = \"./saved_model_luke\"\n",
    "\n",
    "# Save the model and tokenizer\n",
    "model.save_pretrained(save_directory)\n",
    "tokenizer.save_pretrained(save_directory)"
   ]
  },
  {
   "cell_type": "code",
   "execution_count": 42,
   "metadata": {},
   "outputs": [
    {
     "name": "stderr",
     "output_type": "stream",
     "text": [
      "Special tokens have been added in the vocabulary, make sure the associated word embeddings are fine-tuned or trained.\n"
     ]
    }
   ],
   "source": [
    "model = LukeForTokenClassification.from_pretrained(save_directory)\n",
    "tokenizer = LukeTokenizer.from_pretrained(save_directory)\n",
    "\n",
    "\n",
    "model.eval()\n",
    "\n",
    "def predict_concerns(text, tokenizer, model, label2id):\n",
    "    # Tokenize the input text with padding and truncation\n",
    "    tokens = tokenizer(text, return_tensors=\"pt\", padding=True, truncation=True)\n",
    "    input_ids = tokens[\"input_ids\"]\n",
    "    attention_mask = tokens[\"attention_mask\"]\n",
    "\n",
    "    # Perform prediction\n",
    "    with torch.no_grad():\n",
    "        outputs = model(input_ids=input_ids, attention_mask=attention_mask)\n",
    "    \n",
    "    # Get the predicted label IDs\n",
    "    predictions = torch.argmax(outputs.logits, dim=-1).squeeze().tolist()\n",
    "\n",
    "    # Convert label IDs to label names\n",
    "    id2label = {v: k for k, v in label2id.items()}\n",
    "    predicted_labels = [id2label[label_id] for label_id in predictions]\n",
    "\n",
    "    # Convert tokens to readable text\n",
    "    tokens = tokenizer.convert_ids_to_tokens(input_ids.squeeze())\n",
    "\n",
    "    # Only display tokens labeled as concerns\n",
    "    results = []\n",
    "    for token, label in zip(tokens, predicted_labels):\n",
    "        if label != \"O\":  # Show only tokens with 'CONCERN' labels\n",
    "            results.append((token, label))\n",
    "            print(f\"{token}: {label}\")\n",
    "\n",
    "    return results\n"
   ]
  },
  {
   "cell_type": "code",
   "execution_count": 45,
   "metadata": {},
   "outputs": [
    {
     "name": "stdout",
     "output_type": "stream",
     "text": [
      "Ġeating: CONCERN\n",
      "Ġproperly: CONCERN\n",
      "idal: CONCERN\n",
      "[('Ġeating', 'CONCERN'), ('Ġproperly', 'CONCERN'), ('idal', 'CONCERN')]\n"
     ]
    }
   ],
   "source": [
    "text = \"I am not eating properly, and it’s sucidal\"\n",
    "print(predict_concerns(text, tokenizer,model,label2id))"
   ]
  },
  {
   "cell_type": "code",
   "execution_count": null,
   "metadata": {},
   "outputs": [],
   "source": [
    "def predict_concerns_dataloader(test_dataloader, tokenizer, model, label2id):\n",
    "    model.eval()  # Set the model to evaluation mode\n",
    "    all_results = []  # To store results for all batches\n",
    "\n",
    "    # Disable gradient calculation for inference\n",
    "    with torch.no_grad():\n",
    "        for batch in tqdm(test_dataloader):\n",
    "            # Move batch to device\n",
    "            input_ids = batch['input_ids']\n",
    "            attention_mask = batch['attention_mask']\n",
    "\n",
    "            # Perform prediction\n",
    "            outputs = model(input_ids=input_ids, attention_mask=attention_mask)\n",
    "\n",
    "            # Get the predicted label IDs\n",
    "            predictions = torch.argmax(outputs.logits, dim=-1)\n",
    "\n",
    "            # Convert label IDs to label names\n",
    "            id2label = {v: k for k, v in label2id.items()}\n",
    "            predicted_labels = [id2label[label_id.item()] for label_id in predictions.squeeze()]\n",
    "\n",
    "            # Convert tokens to readable text\n",
    "            tokens = tokenizer.convert_ids_to_tokens(input_ids.squeeze())\n",
    "\n",
    "            # Collect results for the current batch\n",
    "            for token, label in zip(tokens, predicted_labels):\n",
    "                if label != \"O\":  # Show only tokens with 'CONCERN' labels\n",
    "                    all_results.append((token, label))\n",
    "                    print(f\"{token}: {label}\")\n",
    "\n",
    "    return all_results\n",
    "\n",
    "# Example usage\n",
    "all_concerns = predict_concerns_dataloader(test_dataloader, tokenizer, model, label2id)\n"
   ]
  }
 ],
 "metadata": {
  "kernelspec": {
   "display_name": "Python 3",
   "language": "python",
   "name": "python3"
  },
  "language_info": {
   "codemirror_mode": {
    "name": "ipython",
    "version": 3
   },
   "file_extension": ".py",
   "mimetype": "text/x-python",
   "name": "python",
   "nbconvert_exporter": "python",
   "pygments_lexer": "ipython3",
   "version": "3.11.7"
  }
 },
 "nbformat": 4,
 "nbformat_minor": 2
}
