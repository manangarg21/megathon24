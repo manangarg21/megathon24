{
 "cells": [
  {
   "cell_type": "code",
   "execution_count": 38,
   "metadata": {},
   "outputs": [],
   "source": [
    "import pandas as pd\n",
    "from transformers import LukeTokenizer, LukeForTokenClassification, DataCollatorForTokenClassification\n",
    "import torch\n",
    "from torch.utils.data import Dataset, DataLoader, random_split\n",
    "import torch\n",
    "from torch.utils.data import DataLoader\n",
    "from transformers import get_linear_schedule_with_warmup, AdamW\n",
    "from tqdm import tqdm \n",
    "\n",
    "file_path = './dataset.csv'\n",
    "dataset = pd.read_csv(file_path)\n",
    "\n",
    "data = dataset.sample(frac=0.01, random_state=42)\n",
    "data.reset_index(drop=True)\n",
    "data = data.to_dict(orient=\"records\")\n",
    "\n",
    "\n",
    "# label2id = {\"O\": 0, \"B-MENTAL_HEALTH_CONCERN\": 1, \"I-MENTAL_HEALTH_CONCERN\": 2}"
   ]
  },
  {
   "cell_type": "code",
   "execution_count": 39,
   "metadata": {},
   "outputs": [
    {
     "name": "stderr",
     "output_type": "stream",
     "text": [
      "Some weights of LukeForTokenClassification were not initialized from the model checkpoint at studio-ousia/luke-base and are newly initialized: ['classifier.bias', 'classifier.weight']\n",
      "You should probably TRAIN this model on a down-stream task to be able to use it for predictions and inference.\n"
     ]
    }
   ],
   "source": [
    "\n",
    "tokenizer = LukeTokenizer.from_pretrained(\"studio-ousia/luke-base\")\n",
    "model = LukeForTokenClassification.from_pretrained(\"studio-ousia/luke-base\", num_labels=2)\n",
    "\n",
    "from transformers import LukeTokenizer\n",
    "\n",
    "label2id = {\"O\": 0, \"CONCERN\": 1}\n",
    "\n",
    "def label_concern_phrases(user_input, extracted_concern, tokenizer):\n",
    "    # Tokenize with padding enabled\n",
    "    tokens = tokenizer(user_input, return_tensors=\"pt\", padding=True, truncation=True)\n",
    "    labels = [label2id[\"O\"]] * len(tokens[\"input_ids\"][0])\n",
    "\n",
    "    # Find positions of the extracted concern phrase within the input text\n",
    "    start_idx = user_input.find(extracted_concern)\n",
    "    if start_idx != -1:\n",
    "        end_idx = start_idx + len(extracted_concern)\n",
    "        concern_tokens = tokenizer(extracted_concern, add_special_tokens=False, return_tensors=\"pt\")[\"input_ids\"][0]\n",
    "\n",
    "        # Mark tokens in extracted concern as \"CONCERN\"\n",
    "        for i, token_id in enumerate(tokens[\"input_ids\"][0]):\n",
    "            if token_id in concern_tokens:\n",
    "                labels[i] = label2id[\"CONCERN\"]\n",
    "\n",
    "    # Pad labels to match input length after tokenization\n",
    "    labels += [label2id[\"O\"]] * (tokens[\"input_ids\"].shape[1] - len(labels))\n",
    "    return tokens, labels\n"
   ]
  },
  {
   "cell_type": "code",
   "execution_count": 40,
   "metadata": {},
   "outputs": [],
   "source": [
    "from torch.utils.data import Dataset, DataLoader\n",
    "\n",
    "class ConcernDataset(Dataset):\n",
    "    def __init__(self, data, tokenizer):\n",
    "        self.data = data\n",
    "        self.tokenizer = tokenizer\n",
    "\n",
    "    def __len__(self):\n",
    "        return len(self.data)\n",
    "\n",
    "    def __getitem__(self, idx):\n",
    "        try:\n",
    "            user_input = self.data[idx][\"User Input\"]\n",
    "            extracted_concern = self.data[idx][\"Extracted Concern\"]\n",
    "            tokens, labels = label_concern_phrases(user_input, extracted_concern, self.tokenizer)\n",
    "\n",
    "            # Convert tokens and labels to tensors\n",
    "            return {\n",
    "                \"input_ids\": tokens[\"input_ids\"].squeeze(0),\n",
    "                \"attention_mask\": tokens[\"attention_mask\"].squeeze(0),\n",
    "                \"labels\": torch.tensor(labels, dtype=torch.long)\n",
    "            }\n",
    "        except KeyError as e:\n",
    "            print(f\"KeyError at index {idx}: {e}\")\n",
    "            raise\n",
    "\n"
   ]
  },
  {
   "cell_type": "code",
   "execution_count": 41,
   "metadata": {},
   "outputs": [],
   "source": [
    "train_size = int(0.7 * len(data))\n",
    "val_size = int(0.15 * len(data))\n",
    "test_size = int(0.15 * len(data))\n",
    "\n",
    "# Calculate total size and sample dataset\n",
    "total_size = train_size + val_size + test_size\n",
    "reduced_data = data[:total_size]  # Slice the dataset to the reduced total size\n",
    "\n",
    "# Create the ConcernDataset with reduced data\n",
    "dataset = ConcernDataset(reduced_data, tokenizer)\n",
    "\n",
    "# Split dataset into train, validation, and test sets\n",
    "train_dataset, val_dataset, test_dataset = random_split(dataset, [train_size, val_size, test_size])\n",
    "\n",
    "# Initialize the data collator for padding\n",
    "data_collator = DataCollatorForTokenClassification(tokenizer=tokenizer)\n",
    "\n",
    "# Create DataLoaders for each split\n",
    "train_dataloader = DataLoader(train_dataset, batch_size=8, shuffle=True, collate_fn=data_collator)\n",
    "val_dataloader = DataLoader(val_dataset, batch_size=8, shuffle=False, collate_fn=data_collator)\n",
    "test_dataloader = DataLoader(test_dataset, batch_size=8, shuffle=False, collate_fn=data_collator)\n"
   ]
  },
  {
   "cell_type": "code",
   "execution_count": 42,
   "metadata": {},
   "outputs": [
    {
     "name": "stderr",
     "output_type": "stream",
     "text": [
      "c:\\Users\\manan\\AppData\\Local\\Programs\\Python\\Python312\\Lib\\site-packages\\transformers\\optimization.py:591: FutureWarning: This implementation of AdamW is deprecated and will be removed in a future version. Use the PyTorch implementation torch.optim.AdamW instead, or set `no_deprecation_warning=True` to disable this warning\n",
      "  warnings.warn(\n"
     ]
    }
   ],
   "source": [
    "import torch.nn as nn\n",
    "optimizer = AdamW(model.parameters(), lr=3e-5)\n",
    "loss_fn = nn.CrossEntropyLoss()\n",
    "epochs = 5"
   ]
  },
  {
   "cell_type": "code",
   "execution_count": 43,
   "metadata": {},
   "outputs": [],
   "source": [
    "# for batch in tqdm(train_dataloader):\n",
    "#     input_ids = batch['input_ids']\n",
    "#     attention_mask = batch['attention_mask']\n",
    "#     labels = batch['labels']\n",
    "    \n",
    "#     # Print shapes\n",
    "#     print(f\"input_ids shape: {input_ids.shape}\")\n",
    "#     print(f\"attention_mask shape: {attention_mask.shape}\")\n",
    "#     print(f\"labels shape: {labels.shape}\")\n",
    "#     break"
   ]
  },
  {
   "cell_type": "code",
   "execution_count": 44,
   "metadata": {},
   "outputs": [
    {
     "name": "stdout",
     "output_type": "stream",
     "text": [
      "Epoch 1/3\n"
     ]
    },
    {
     "name": "stderr",
     "output_type": "stream",
     "text": [
      "100%|██████████| 88/88 [00:59<00:00,  1.48it/s]\n"
     ]
    },
    {
     "name": "stdout",
     "output_type": "stream",
     "text": [
      "Average loss for Epoch 1: 0.0791\n",
      "Epoch 2/3\n"
     ]
    },
    {
     "name": "stderr",
     "output_type": "stream",
     "text": [
      "100%|██████████| 88/88 [00:58<00:00,  1.51it/s]\n"
     ]
    },
    {
     "name": "stdout",
     "output_type": "stream",
     "text": [
      "Average loss for Epoch 2: 0.0014\n",
      "Epoch 3/3\n"
     ]
    },
    {
     "name": "stderr",
     "output_type": "stream",
     "text": [
      "100%|██████████| 88/88 [00:59<00:00,  1.49it/s]"
     ]
    },
    {
     "name": "stdout",
     "output_type": "stream",
     "text": [
      "Average loss for Epoch 3: 0.0009\n"
     ]
    },
    {
     "name": "stderr",
     "output_type": "stream",
     "text": [
      "\n"
     ]
    }
   ],
   "source": [
    "def train(model, train_dataloader, optimizer, epochs=3):\n",
    "    model.train()\n",
    "    device = torch.device(\"mps\" if torch.backends.mps.is_available() else \"cpu\")\n",
    "    model.to(device)\n",
    "    \n",
    "    for epoch in range(epochs):\n",
    "        print(f\"Epoch {epoch + 1}/{epochs}\")\n",
    "        epoch_loss = 0\n",
    "        \n",
    "        for batch in tqdm(train_dataloader):\n",
    "            # Move batch to device\n",
    "            input_ids = batch['input_ids'].to(device)\n",
    "            attention_mask = batch['attention_mask'].to(device)\n",
    "            labels = batch['labels'].to(device)\n",
    "            # print(labels.shape)\n",
    "            # Zero gradients before each step\n",
    "            optimizer.zero_grad()\n",
    "            \n",
    "            # Forward pass\n",
    "            outputs = model(input_ids, attention_mask=attention_mask, labels=labels)\n",
    "            # print(outputs.logits.shape)\n",
    "            # loss = outputs.loss\n",
    "            logits = outputs.logits \n",
    "            loss = loss_fn(logits.view(-1,2), labels.view(-1))\n",
    "            epoch_loss += loss.item()\n",
    "            \n",
    "            # Backward pass and optimization step\n",
    "            loss.backward()\n",
    "            optimizer.step()\n",
    "            # scheduler.step()\n",
    "        \n",
    "        avg_loss = epoch_loss / len(train_dataloader)\n",
    "        print(f\"Average loss for Epoch {epoch + 1}: {avg_loss:.4f}\")\n",
    "\n",
    "# Start training\n",
    "train(model, train_dataloader, optimizer)\n"
   ]
  },
  {
   "cell_type": "code",
   "execution_count": 45,
   "metadata": {},
   "outputs": [
    {
     "data": {
      "text/plain": [
       "('./saved_model_luke\\\\tokenizer_config.json',\n",
       " './saved_model_luke\\\\special_tokens_map.json',\n",
       " './saved_model_luke\\\\vocab.json',\n",
       " './saved_model_luke\\\\merges.txt',\n",
       " './saved_model_luke\\\\entity_vocab.json',\n",
       " './saved_model_luke\\\\added_tokens.json')"
      ]
     },
     "execution_count": 45,
     "metadata": {},
     "output_type": "execute_result"
    }
   ],
   "source": [
    "from transformers import LukeForTokenClassification, LukeTokenizer\n",
    "\n",
    "# Define paths for saving\n",
    "save_directory = \"./saved_model_luke\"\n",
    "\n",
    "# Save the model and tokenizer\n",
    "model.save_pretrained(save_directory)\n",
    "tokenizer.save_pretrained(save_directory)"
   ]
  },
  {
   "cell_type": "code",
   "execution_count": 46,
   "metadata": {},
   "outputs": [],
   "source": [
    "model = LukeForTokenClassification.from_pretrained(save_directory)\n",
    "tokenizer = LukeTokenizer.from_pretrained(save_directory)\n",
    "\n",
    "\n",
    "model.eval()\n",
    "\n",
    "def predict_concerns(text, tokenizer, model, label2id):\n",
    "    # Tokenize the input text with padding and truncation\n",
    "    tokens = tokenizer(text, return_tensors=\"pt\", padding=True, truncation=True)\n",
    "    input_ids = tokens[\"input_ids\"]\n",
    "    attention_mask = tokens[\"attention_mask\"]\n",
    "\n",
    "    # Perform prediction\n",
    "    with torch.no_grad():\n",
    "        outputs = model(input_ids=input_ids, attention_mask=attention_mask)\n",
    "    \n",
    "    # Get the predicted label IDs\n",
    "    predictions = torch.argmax(outputs.logits, dim=-1).squeeze().tolist()\n",
    "\n",
    "    # Convert label IDs to label names\n",
    "    id2label = {v: k for k, v in label2id.items()}\n",
    "    predicted_labels = [id2label[label_id] for label_id in predictions]\n",
    "\n",
    "    # Convert tokens to readable text\n",
    "    tokens = tokenizer.convert_ids_to_tokens(input_ids.squeeze())\n",
    "\n",
    "    # Only display tokens labeled as concerns\n",
    "    results = []\n",
    "    for token, label in zip(tokens, predicted_labels):\n",
    "        if label != \"O\":  # Show only tokens with 'CONCERN' labels\n",
    "            results.append((token, label))\n",
    "            print(f\"{token}: {label}\")\n",
    "\n",
    "    return results\n"
   ]
  },
  {
   "cell_type": "code",
   "execution_count": 47,
   "metadata": {},
   "outputs": [
    {
     "name": "stdout",
     "output_type": "stream",
     "text": [
      "Ġeating: CONCERN\n",
      "Ġproperly: CONCERN\n",
      "Ġsuc: CONCERN\n",
      "idal: CONCERN\n",
      "[('Ġeating', 'CONCERN'), ('Ġproperly', 'CONCERN'), ('Ġsuc', 'CONCERN'), ('idal', 'CONCERN')]\n"
     ]
    }
   ],
   "source": [
    "text = \"I am not eating properly, and it’s sucidal\"\n",
    "print(predict_concerns(text, tokenizer,model,label2id))"
   ]
  },
  {
   "cell_type": "code",
   "execution_count": 48,
   "metadata": {},
   "outputs": [
    {
     "name": "stderr",
     "output_type": "stream",
     "text": [
      "  0%|          | 0/19 [00:00<?, ?it/s]\n"
     ]
    },
    {
     "ename": "RuntimeError",
     "evalue": "a Tensor with 17 elements cannot be converted to Scalar",
     "output_type": "error",
     "traceback": [
      "\u001b[1;31m---------------------------------------------------------------------------\u001b[0m",
      "\u001b[1;31mRuntimeError\u001b[0m                              Traceback (most recent call last)",
      "Cell \u001b[1;32mIn[48], line 34\u001b[0m\n\u001b[0;32m     31\u001b[0m     \u001b[38;5;28;01mreturn\u001b[39;00m all_results\n\u001b[0;32m     33\u001b[0m \u001b[38;5;66;03m# Example usage\u001b[39;00m\n\u001b[1;32m---> 34\u001b[0m all_concerns \u001b[38;5;241m=\u001b[39m \u001b[43mpredict_concerns_dataloader\u001b[49m\u001b[43m(\u001b[49m\u001b[43mtest_dataloader\u001b[49m\u001b[43m,\u001b[49m\u001b[43m \u001b[49m\u001b[43mtokenizer\u001b[49m\u001b[43m,\u001b[49m\u001b[43m \u001b[49m\u001b[43mmodel\u001b[49m\u001b[43m,\u001b[49m\u001b[43m \u001b[49m\u001b[43mlabel2id\u001b[49m\u001b[43m)\u001b[49m\n",
      "Cell \u001b[1;32mIn[48], line 20\u001b[0m, in \u001b[0;36mpredict_concerns_dataloader\u001b[1;34m(test_dataloader, tokenizer, model, label2id)\u001b[0m\n\u001b[0;32m     18\u001b[0m \u001b[38;5;66;03m# Convert label IDs to label names\u001b[39;00m\n\u001b[0;32m     19\u001b[0m id2label \u001b[38;5;241m=\u001b[39m {v: k \u001b[38;5;28;01mfor\u001b[39;00m k, v \u001b[38;5;129;01min\u001b[39;00m label2id\u001b[38;5;241m.\u001b[39mitems()}\n\u001b[1;32m---> 20\u001b[0m predicted_labels \u001b[38;5;241m=\u001b[39m [id2label[\u001b[43mlabel_id\u001b[49m\u001b[38;5;241;43m.\u001b[39;49m\u001b[43mitem\u001b[49m\u001b[43m(\u001b[49m\u001b[43m)\u001b[49m] \u001b[38;5;28;01mfor\u001b[39;00m label_id \u001b[38;5;129;01min\u001b[39;00m predictions\u001b[38;5;241m.\u001b[39msqueeze()]\n\u001b[0;32m     22\u001b[0m \u001b[38;5;66;03m# Convert tokens to readable text\u001b[39;00m\n\u001b[0;32m     23\u001b[0m tokens \u001b[38;5;241m=\u001b[39m tokenizer\u001b[38;5;241m.\u001b[39mconvert_ids_to_tokens(input_ids\u001b[38;5;241m.\u001b[39msqueeze())\n",
      "\u001b[1;31mRuntimeError\u001b[0m: a Tensor with 17 elements cannot be converted to Scalar"
     ]
    }
   ],
   "source": [
    "def predict_concerns_dataloader(test_dataloader, tokenizer, model, label2id):\n",
    "    model.eval()  # Set the model to evaluation mode\n",
    "    all_results = []  # To store results for all batches\n",
    "\n",
    "    # Disable gradient calculation for inference\n",
    "    with torch.no_grad():\n",
    "        for batch in tqdm(test_dataloader):\n",
    "            # Move batch to device\n",
    "            input_ids = batch['input_ids']\n",
    "            attention_mask = batch['attention_mask']\n",
    "\n",
    "            # Perform prediction\n",
    "            outputs = model(input_ids=input_ids, attention_mask=attention_mask)\n",
    "\n",
    "            # Get the predicted label IDs\n",
    "            predictions = torch.argmax(outputs.logits, dim=-1)\n",
    "\n",
    "            # Convert label IDs to label names\n",
    "            id2label = {v: k for k, v in label2id.items()}\n",
    "            predicted_labels = [id2label[label_id.item()] for label_id in predictions.squeeze()]\n",
    "\n",
    "            # Convert tokens to readable text\n",
    "            tokens = tokenizer.convert_ids_to_tokens(input_ids.squeeze())\n",
    "\n",
    "            # Collect results for the current batch\n",
    "            for token, label in zip(tokens, predicted_labels):\n",
    "                if label != \"O\":  # Show only tokens with 'CONCERN' labels\n",
    "                    all_results.append((token, label))\n",
    "                    print(f\"{token}: {label}\")\n",
    "\n",
    "    return all_results\n",
    "\n",
    "# Example usage\n",
    "all_concerns = predict_concerns_dataloader(test_dataloader, tokenizer, model, label2id)\n"
   ]
  }
 ],
 "metadata": {
  "kernelspec": {
   "display_name": "Python 3",
   "language": "python",
   "name": "python3"
  },
  "language_info": {
   "codemirror_mode": {
    "name": "ipython",
    "version": 3
   },
   "file_extension": ".py",
   "mimetype": "text/x-python",
   "name": "python",
   "nbconvert_exporter": "python",
   "pygments_lexer": "ipython3",
   "version": "3.12.5"
  }
 },
 "nbformat": 4,
 "nbformat_minor": 2
}
