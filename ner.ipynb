{
 "cells": [
  {
   "cell_type": "code",
   "execution_count": 39,
   "metadata": {},
   "outputs": [],
   "source": [
    "import pandas as pd\n",
    "from transformers import LukeTokenizer, LukeForTokenClassification, DataCollatorForTokenClassification\n",
    "import torch\n",
    "from torch.utils.data import Dataset, DataLoader, random_split\n",
    "import torch\n",
    "from torch.utils.data import DataLoader\n",
    "from transformers import get_linear_schedule_with_warmup, AdamW\n",
    "from tqdm import tqdm \n",
    "\n",
    "file_path = './dataset.csv'\n",
    "dataset = pd.read_csv(file_path)\n",
    "\n",
    "data = dataset.sample(frac=0.1, random_state=42)\n",
    "data.reset_index(drop=True)\n",
    "data = data.to_dict(orient=\"records\")\n",
    "\n",
    "\n",
    "# label2id = {\"O\": 0, \"B-MENTAL_HEALTH_CONCERN\": 1, \"I-MENTAL_HEALTH_CONCERN\": 2}"
   ]
  },
  {
   "cell_type": "code",
   "execution_count": 40,
   "metadata": {},
   "outputs": [
    {
     "name": "stderr",
     "output_type": "stream",
     "text": [
      "Some weights of LukeForTokenClassification were not initialized from the model checkpoint at studio-ousia/luke-base and are newly initialized: ['classifier.bias', 'classifier.weight']\n",
      "You should probably TRAIN this model on a down-stream task to be able to use it for predictions and inference.\n"
     ]
    },
    {
     "name": "stdout",
     "output_type": "stream",
     "text": [
      "[0, 0, 0, 0, 0, 0, 0, 0, 1, 1, 1, 0, 0]\n"
     ]
    }
   ],
   "source": [
    "from transformers import LukeTokenizer, LukeForTokenClassification\n",
    "\n",
    "# Initialize the tokenizer and model\n",
    "tokenizer = LukeTokenizer.from_pretrained(\"studio-ousia/luke-base\")\n",
    "model = LukeForTokenClassification.from_pretrained(\"studio-ousia/luke-base\", num_labels=2)\n",
    "\n",
    "label2id = {\"O\": 0, \"CONCERN\": 1}\n",
    "\n",
    "def label_concern_phrases(user_input, extracted_concern, tokenizer):\n",
    "    # Initialize character-level labels with \"O\"\n",
    "    char_labels = [label2id[\"O\"]] * len(user_input)\n",
    "    \n",
    "    # Find the start position of the extracted concern phrase in user_input\n",
    "    start_idx = user_input.find(extracted_concern)\n",
    "    if start_idx != -1:\n",
    "        # Mark characters in the extracted concern as \"CONCERN\"\n",
    "        for i in range(start_idx, start_idx + len(extracted_concern)):\n",
    "            char_labels[i] = label2id[\"CONCERN\"]\n",
    "    \n",
    "    # Tokenize the input with padding and truncation\n",
    "    tokens = tokenizer(user_input, return_tensors=\"pt\", padding=True, truncation=True)\n",
    "    tokenized_input = tokenizer.convert_ids_to_tokens(tokens[\"input_ids\"][0])\n",
    "\n",
    "    # Map character-level labels to token-level labels\n",
    "    labels = []\n",
    "    char_idx = 0  # Character index in user_input\n",
    "    for token in tokenized_input:\n",
    "        if token.startswith(\"##\"):  # Continuation of a split word, repeat last label\n",
    "            labels.append(labels[-1])\n",
    "        else:\n",
    "            if char_idx < len(char_labels):\n",
    "                labels.append(char_labels[char_idx])\n",
    "            else:\n",
    "                labels.append(label2id[\"O\"])\n",
    "            # Advance the character index by the token length (without \"##\" if present)\n",
    "            char_idx += len(token.replace(\"##\", \"\"))\n",
    "    \n",
    "    # Pad labels to match tokenized input length if needed\n",
    "    labels += [label2id[\"O\"]] * (tokens[\"input_ids\"].shape[1] - len(labels))\n",
    "    return tokens, labels\n",
    "\n",
    "# Example usage\n",
    "user_input = \"Things have been tough, I keep not eating properly.\"\n",
    "extracted_concern = \"not eating properly\"\n",
    "tokens, labels = label_concern_phrases(user_input, extracted_concern, tokenizer)\n",
    "print(labels)\n"
   ]
  },
  {
   "cell_type": "code",
   "execution_count": 41,
   "metadata": {},
   "outputs": [],
   "source": [
    "from torch.utils.data import Dataset, DataLoader\n",
    "\n",
    "class ConcernDataset(Dataset):\n",
    "    def __init__(self, data, tokenizer):\n",
    "        self.data = data\n",
    "        self.tokenizer = tokenizer\n",
    "\n",
    "    def __len__(self):\n",
    "        return len(self.data)\n",
    "\n",
    "    def __getitem__(self, idx):\n",
    "        try:\n",
    "            user_input = self.data[idx][\"User Input\"]\n",
    "            extracted_concern = self.data[idx][\"Extracted Concern\"]\n",
    "            tokens, labels = label_concern_phrases(user_input, extracted_concern, self.tokenizer)\n",
    "\n",
    "            # Convert tokens and labels to tensors\n",
    "            return {\n",
    "                \"input_ids\": tokens[\"input_ids\"].squeeze(0),\n",
    "                \"attention_mask\": tokens[\"attention_mask\"].squeeze(0),\n",
    "                \"labels\": torch.tensor(labels, dtype=torch.long)\n",
    "            }\n",
    "        except KeyError as e:\n",
    "            print(f\"KeyError at index {idx}: {e}\")\n",
    "            raise\n",
    "\n"
   ]
  },
  {
   "cell_type": "code",
   "execution_count": 42,
   "metadata": {},
   "outputs": [
    {
     "name": "stdout",
     "output_type": "stream",
     "text": [
      "438 94 94\n"
     ]
    }
   ],
   "source": [
    "train_size = int(0.7 * len(data))\n",
    "val_size = int(0.15 * len(data))\n",
    "test_size = int(0.15 * len(data))\n",
    "\n",
    "# Calculate total size and sample dataset\n",
    "total_size = train_size + val_size + test_size\n",
    "reduced_data = data[:total_size]  # Slice the dataset to the reduced total size\n",
    "\n",
    "# Create the ConcernDataset with reduced data\n",
    "dataset = ConcernDataset(reduced_data, tokenizer)\n",
    "\n",
    "# Split dataset into train, validation, and test sets\n",
    "train_dataset, val_dataset, test_dataset = random_split(dataset, [train_size, val_size, test_size])\n",
    "\n",
    "# Initialize the data collator for padding\n",
    "data_collator = DataCollatorForTokenClassification(tokenizer=tokenizer)\n",
    "\n",
    "# Create DataLoaders for each split\n",
    "train_dataloader = DataLoader(train_dataset, batch_size=8, shuffle=True, collate_fn=data_collator)\n",
    "val_dataloader = DataLoader(val_dataset, batch_size=8, shuffle=False, collate_fn=data_collator)\n",
    "test_dataloader = DataLoader(test_dataset, batch_size=8, shuffle=False, collate_fn=data_collator)\n",
    "\n",
    "print(len(train_dataloader), len(val_dataloader), len(test_dataloader))\n"
   ]
  },
  {
   "cell_type": "code",
   "execution_count": 43,
   "metadata": {},
   "outputs": [
    {
     "name": "stderr",
     "output_type": "stream",
     "text": [
      "c:\\Users\\manan\\AppData\\Local\\Programs\\Python\\Python312\\Lib\\site-packages\\transformers\\optimization.py:591: FutureWarning: This implementation of AdamW is deprecated and will be removed in a future version. Use the PyTorch implementation torch.optim.AdamW instead, or set `no_deprecation_warning=True` to disable this warning\n",
      "  warnings.warn(\n"
     ]
    }
   ],
   "source": [
    "import torch.nn as nn\n",
    "optimizer = AdamW(model.parameters(), lr=3e-5)\n",
    "loss_fn = nn.CrossEntropyLoss()\n",
    "epochs = 5"
   ]
  },
  {
   "cell_type": "code",
   "execution_count": 44,
   "metadata": {},
   "outputs": [],
   "source": [
    "# for batch in tqdm(train_dataloader):\n",
    "#     input_ids = batch['input_ids']\n",
    "#     attention_mask = batch['attention_mask']\n",
    "#     labels = batch['labels']\n",
    "    \n",
    "#     # Print shapes\n",
    "#     print(f\"input_ids shape: {input_ids.shape}\")\n",
    "#     print(f\"attention_mask shape: {attention_mask.shape}\")\n",
    "#     print(f\"labels shape: {labels.shape}\")\n",
    "#     break"
   ]
  },
  {
   "cell_type": "code",
   "execution_count": 45,
   "metadata": {},
   "outputs": [
    {
     "name": "stdout",
     "output_type": "stream",
     "text": [
      "Epoch 1/3\n"
     ]
    },
    {
     "name": "stderr",
     "output_type": "stream",
     "text": [
      "100%|██████████| 438/438 [05:15<00:00,  1.39it/s]\n"
     ]
    },
    {
     "name": "stdout",
     "output_type": "stream",
     "text": [
      "Average loss for Epoch 1: 0.0277\n",
      "Epoch 2/3\n"
     ]
    },
    {
     "name": "stderr",
     "output_type": "stream",
     "text": [
      "100%|██████████| 438/438 [05:10<00:00,  1.41it/s]\n"
     ]
    },
    {
     "name": "stdout",
     "output_type": "stream",
     "text": [
      "Average loss for Epoch 2: 0.0042\n",
      "Epoch 3/3\n"
     ]
    },
    {
     "name": "stderr",
     "output_type": "stream",
     "text": [
      "100%|██████████| 438/438 [05:08<00:00,  1.42it/s]"
     ]
    },
    {
     "name": "stdout",
     "output_type": "stream",
     "text": [
      "Average loss for Epoch 3: 0.0074\n"
     ]
    },
    {
     "name": "stderr",
     "output_type": "stream",
     "text": [
      "\n"
     ]
    }
   ],
   "source": [
    "def train(model, train_dataloader, optimizer, epochs=3):\n",
    "    model.train()\n",
    "    device = torch.device(\"mps\" if torch.backends.mps.is_available() else \"cpu\")\n",
    "    model.to(device)\n",
    "    \n",
    "    for epoch in range(epochs):\n",
    "        print(f\"Epoch {epoch + 1}/{epochs}\")\n",
    "        epoch_loss = 0\n",
    "        \n",
    "        for batch in tqdm(train_dataloader):\n",
    "            # Move batch to device\n",
    "            input_ids = batch['input_ids'].to(device)\n",
    "            attention_mask = batch['attention_mask'].to(device)\n",
    "            labels = batch['labels'].to(device)\n",
    "            # print(labels.shape)\n",
    "            # Zero gradients before each step\n",
    "            optimizer.zero_grad()\n",
    "            \n",
    "            # Forward pass\n",
    "            outputs = model(input_ids, attention_mask=attention_mask, labels=labels)\n",
    "            # print(outputs.logits.shape)\n",
    "            # loss = outputs.loss\n",
    "            logits = outputs.logits \n",
    "            loss = loss_fn(logits.view(-1,2), labels.view(-1))\n",
    "            epoch_loss += loss.item()\n",
    "            \n",
    "            # Backward pass and optimization step\n",
    "            loss.backward()\n",
    "            optimizer.step()\n",
    "            # scheduler.step()\n",
    "        \n",
    "        avg_loss = epoch_loss / len(train_dataloader)\n",
    "        print(f\"Average loss for Epoch {epoch + 1}: {avg_loss:.4f}\")\n",
    "\n",
    "# Start training\n",
    "train(model, train_dataloader, optimizer)\n"
   ]
  },
  {
   "cell_type": "code",
   "execution_count": 46,
   "metadata": {},
   "outputs": [
    {
     "data": {
      "text/plain": [
       "('./saved_model_luke\\\\tokenizer_config.json',\n",
       " './saved_model_luke\\\\special_tokens_map.json',\n",
       " './saved_model_luke\\\\vocab.json',\n",
       " './saved_model_luke\\\\merges.txt',\n",
       " './saved_model_luke\\\\entity_vocab.json',\n",
       " './saved_model_luke\\\\added_tokens.json')"
      ]
     },
     "execution_count": 46,
     "metadata": {},
     "output_type": "execute_result"
    }
   ],
   "source": [
    "from transformers import LukeForTokenClassification, LukeTokenizer\n",
    "\n",
    "# Define paths for saving\n",
    "save_directory = \"./saved_model_luke\"\n",
    "\n",
    "# Save the model and tokenizer\n",
    "model.save_pretrained(save_directory)\n",
    "tokenizer.save_pretrained(save_directory)"
   ]
  },
  {
   "cell_type": "code",
   "execution_count": 47,
   "metadata": {},
   "outputs": [],
   "source": [
    "model = LukeForTokenClassification.from_pretrained(save_directory)\n",
    "tokenizer = LukeTokenizer.from_pretrained(save_directory)\n",
    "\n",
    "\n",
    "model.eval()\n",
    "\n",
    "def predict_concerns(text, tokenizer, model, label2id):\n",
    "    # Tokenize the input text with padding and truncation\n",
    "    tokens = tokenizer(text, return_tensors=\"pt\", padding=True, truncation=True)\n",
    "    input_ids = tokens[\"input_ids\"]\n",
    "    attention_mask = tokens[\"attention_mask\"]\n",
    "\n",
    "    # Perform prediction\n",
    "    with torch.no_grad():\n",
    "        outputs = model(input_ids=input_ids, attention_mask=attention_mask)\n",
    "    \n",
    "    # Get the predicted label IDs\n",
    "    predictions = torch.argmax(outputs.logits, dim=-1).squeeze().tolist()\n",
    "\n",
    "    # Convert label IDs to label names\n",
    "    id2label = {v: k for k, v in label2id.items()}\n",
    "    predicted_labels = [id2label[label_id] for label_id in predictions]\n",
    "\n",
    "    # Convert tokens to readable text\n",
    "    tokens = tokenizer.convert_ids_to_tokens(input_ids.squeeze())\n",
    "\n",
    "    # Only display tokens labeled as concerns\n",
    "    results = []\n",
    "    for token, label in zip(tokens, predicted_labels):\n",
    "        if label != \"O\":  # Show only tokens with 'CONCERN' labels\n",
    "            results.append((token, label))\n",
    "            print(f\"{token}: {label}\")\n",
    "\n",
    "    return results\n"
   ]
  },
  {
   "cell_type": "code",
   "execution_count": 48,
   "metadata": {},
   "outputs": [
    {
     "name": "stdout",
     "output_type": "stream",
     "text": [
      "Ġnot: CONCERN\n",
      "Ġeating: CONCERN\n",
      "Ġproperly: CONCERN\n",
      "[('Ġnot', 'CONCERN'), ('Ġeating', 'CONCERN'), ('Ġproperly', 'CONCERN')]\n"
     ]
    }
   ],
   "source": [
    "text = \"Things have been tough, I keep not eating properly.\"\n",
    "print(predict_concerns(text, tokenizer,model,label2id))"
   ]
  },
  {
   "cell_type": "code",
   "execution_count": 49,
   "metadata": {},
   "outputs": [
    {
     "name": "stderr",
     "output_type": "stream",
     "text": [
      "100%|██████████| 94/94 [00:11<00:00,  8.28it/s]"
     ]
    },
    {
     "name": "stdout",
     "output_type": "stream",
     "text": [
      "Accuracy: 0.9989Accuracy: 0.9989Accuracy: 0.9989Accuracy: 0.9989Accuracy: 0.9989Accuracy: 0.9989Accuracy: 0.9989Accuracy: 0.9989Accuracy: 0.9989Accuracy: 0.9989Accuracy: 0.9989Accuracy: 0.9989Accuracy: 0.9989Accuracy: 0.9989Accuracy: 0.9989Accuracy: 0.9989Accuracy: 0.9989Accuracy: 0.9989Accuracy: 0.9989Accuracy: 0.9989Accuracy: 0.9989Accuracy: 0.9989Accuracy: 0.9989Accuracy: 0.9989Accuracy: 0.9989Accuracy: 0.9989Accuracy: 0.9989Accuracy: 0.9989Accuracy: 0.9989Accuracy: 0.9989Accuracy: 0.9989Accuracy: 0.9989Accuracy: 0.9989Accuracy: 0.9989Accuracy: 0.9989Accuracy: 0.9989Accuracy: 0.9989Accuracy: 0.9989Accuracy: 0.9989Accuracy: 0.9989Accuracy: 0.9989Accuracy: 0.9989Accuracy: 0.9989Accuracy: 0.9989Accuracy: 0.9989Accuracy: 0.9989Accuracy: 0.9989Accuracy: 0.9989Accuracy: 0.9989Accuracy: 0.9989Accuracy: 0.9989Accuracy: 0.9989Accuracy: 0.9989Accuracy: 0.9989Accuracy: 0.9989Accuracy: 0.9989Accuracy: 0.9989Accuracy: 0.9989Accuracy: 0.9989Accuracy: 0.9989Accuracy: 0.9989Accuracy: 0.9989Accuracy: 0.9989Accuracy: 0.9989Accuracy: 0.9989Accuracy: 0.9989Accuracy: 0.9989Accuracy: 0.9989Accuracy: 0.9989Accuracy: 0.9989Accuracy: 0.9989Accuracy: 0.9989Accuracy: 0.9989Accuracy: 0.9989Accuracy: 0.9989Accuracy: 0.9989Accuracy: 0.9989Accuracy: 0.9989Accuracy: 0.9989Accuracy: 0.9989Accuracy: 0.9989Accuracy: 0.9989Accuracy: 0.9989Accuracy: 0.9989Accuracy: 0.9989Accuracy: 0.9989Accuracy: 0.9989Accuracy: 0.9989Accuracy: 0.9989Accuracy: 0.9989Accuracy: 0.9989Accuracy: 0.9989Accuracy: 0.9989Accuracy: 0.9989Accuracy: 0.9989Accuracy: 0.9989Accuracy: 0.9989Accuracy: 0.9989Accuracy: 0.9989Accuracy: 0.9989\n"
     ]
    },
    {
     "name": "stderr",
     "output_type": "stream",
     "text": [
      "\n"
     ]
    }
   ],
   "source": [
    "def predict_concerns_dataloader(test_dataloader, tokenizer, model, label2id):\n",
    "    model.eval()  # Set the model to evaluation mode\n",
    "    all_results = []  # To store results for all batches\n",
    "    correct_predictions = 0  # To count correct predictions\n",
    "    total_predictions = 0  # To count total predictions\n",
    "\n",
    "    # Disable gradient calculation for inference\n",
    "    with torch.no_grad():\n",
    "        for batch in tqdm(test_dataloader):\n",
    "            # Move batch to device\n",
    "            input_ids = batch['input_ids']\n",
    "            attention_mask = batch['attention_mask']\n",
    "            true_labels = batch['labels']\n",
    "\n",
    "            # Perform prediction\n",
    "            outputs = model(input_ids=input_ids, attention_mask=attention_mask)\n",
    "\n",
    "            # Get the predicted label IDs\n",
    "            predictions = torch.argmax(outputs.logits, dim=-1)\n",
    "            # print(predictions)\n",
    "\n",
    "            # Convert label IDs to label names\n",
    "            id2label = {v: k for k, v in label2id.items()}\n",
    "            # print(\"Shape of predictions:\", predictions.shape)\n",
    "            predicted_labels = predictions.cpu().numpy()  # Move to CPU and convert to numpy array\n",
    "            # print(len(input_ids))\n",
    "            # print(predicted_labels)\n",
    "            for i in range(len(input_ids)):\n",
    "                tokens = tokenizer.convert_ids_to_tokens(input_ids[i].squeeze())  # Get tokens for the current input\n",
    "                true_label = true_labels[i].cpu().numpy()  # Assuming true_labels are also on the CPU\n",
    "                # print(true_label)\n",
    "                # print(predicted_labels[i])\n",
    "                for token, pred_label_id, true_label_id in zip(tokens, predicted_labels[i], true_label):\n",
    "                    if true_label_id != -100:  \n",
    "                        total_predictions += 1\n",
    "                        if pred_label_id == true_label_id:\n",
    "                            correct_predictions += 1\n",
    "                    \n",
    "                    # Convert predicted label ID to label name\n",
    "                    pred_label = id2label[pred_label_id]\n",
    "\n",
    "                    # Only store tokens with 'CONCERN' labels\n",
    "                    if pred_label != \"O\":\n",
    "                        all_results.append((token, pred_label))\n",
    "                    \n",
    "            \n",
    "    # Calculate accuracy\n",
    "    accuracy = correct_predictions / total_predictions if total_predictions > 0 else 0\n",
    "    print(f'Accuracy: {accuracy*100:.4f}')\n",
    "\n",
    "    return all_results\n",
    "\n",
    "# Example usage\n",
    "all_concerns = predict_concerns_dataloader(test_dataloader, tokenizer, model, label2id)\n"
   ]
  }
 ],
 "metadata": {
  "kernelspec": {
   "display_name": "Python 3",
   "language": "python",
   "name": "python3"
  },
  "language_info": {
   "codemirror_mode": {
    "name": "ipython",
    "version": 3
   },
   "file_extension": ".py",
   "mimetype": "text/x-python",
   "name": "python",
   "nbconvert_exporter": "python",
   "pygments_lexer": "ipython3",
   "version": "3.12.5"
  }
 },
 "nbformat": 4,
 "nbformat_minor": 2
}
